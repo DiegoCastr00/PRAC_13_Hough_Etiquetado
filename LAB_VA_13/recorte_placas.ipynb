{
 "cells": [
  {
   "cell_type": "code",
   "execution_count": 1,
   "metadata": {},
   "outputs": [],
   "source": [
    "import numpy as np\n",
    "import matplotlib.pyplot as plt\n",
    "import cv2\n",
    "import os"
   ]
  },
  {
   "cell_type": "code",
   "execution_count": 2,
   "metadata": {},
   "outputs": [],
   "source": [
    "def recortegris(imagen,umbral):\n",
    "    #umbral = thresholdOtsu(np.array(imagen))\n",
    "    minAncho = 500\n",
    "    maxAncho = 0\n",
    "    minAlto = 300\n",
    "    maxAlto = 0\n",
    "    limite = int(umbral *1.05)\n",
    "    for i in range(0, imagen.shape[0]):\n",
    "        for j in range(0, imagen.shape[1]):\n",
    "            if  np.all((imagen[i][j] <= umbral)):\n",
    "                if(i < minAncho):\n",
    "                    minAncho = i\n",
    "                if(i > maxAncho):\n",
    "                    maxAncho = i\n",
    "                if(j < minAlto):\n",
    "                    minAlto = j\n",
    "                if(j > maxAlto):\n",
    "                    maxAlto = j\n",
    "\n",
    "    #recortamos la imagen\n",
    "    imagen = imagen[minAncho:maxAncho, minAlto:maxAlto]\n",
    "\n",
    "    return imagen "
   ]
  },
  {
   "cell_type": "code",
   "execution_count": 6,
   "metadata": {},
   "outputs": [
    {
     "name": "stdout",
     "output_type": "stream",
     "text": [
      "85.0\n",
      "85.0\n",
      "20.0\n",
      "53.0\n",
      "57.0\n",
      "109.0\n",
      "109.0\n",
      "82.0\n",
      "82.0\n",
      "152.0\n",
      "152.0\n",
      "137.0\n",
      "137.0\n",
      "62.0\n",
      "86.0\n",
      "117.0\n",
      "110.0\n",
      "92.0\n",
      "120.0\n",
      "138.0\n",
      "102.0\n",
      "102.0\n",
      "124.0\n",
      "75.0\n",
      "138.0\n",
      "25\n"
     ]
    }
   ],
   "source": [
    "def abrirArchivo():\n",
    "    carpeta_destino = \"C:\\\\Python\\\\VisionA\\\\Practica3\\\\Privado\\\\LAB_VA_13\\\\Nuev_placas\"\n",
    "    dir_to_search = \"C:\\\\Python\\\\VisionA\\\\Practica3\\\\Privado\\\\LAB_VA_13\\\\testing_placas\"\n",
    "    archivos = os.listdir(dir_to_search)\n",
    "\n",
    "    # Crear la carpeta de destino si no existe\n",
    "    os.makedirs(carpeta_destino, exist_ok=True)\n",
    "    \n",
    "    contador = 0\n",
    "\n",
    "    # Iterar sobre cada archivo en la carpeta\n",
    "    for archivo in archivos:\n",
    "        contador += 1\n",
    "        ruta_archivo_origen = os.path.join(dir_to_search, archivo)\n",
    "\n",
    "        # Abrir la imagen utilizando OpenCV y convertirla a escala de grises\n",
    "        imagen1 = cv2.imread(ruta_archivo_origen, cv2.IMREAD_GRAYSCALE)\n",
    "        media = np.median(imagen1)\n",
    "        print(media)\n",
    "        imagen = recortegris(imagen1, media*.1)\n",
    "\n",
    "        # Generar el nombre único del archivo destino\n",
    "        nombre_archivo_destino = 'recorte' + str(contador) + '.jpg'\n",
    "\n",
    "        # Generar la ruta completa para guardar la imagen en la carpeta destino\n",
    "        ruta_archivo_destino = os.path.join(carpeta_destino, nombre_archivo_destino)\n",
    "\n",
    "        # Guardar la imagen en la carpeta destino\n",
    "        plt.imsave(ruta_archivo_destino, imagen, cmap='gray')\n",
    "            \n",
    "    print(contador)\n",
    "\n",
    "abrirArchivo()"
   ]
  }
 ],
 "metadata": {
  "kernelspec": {
   "display_name": "Python 3",
   "language": "python",
   "name": "python3"
  },
  "language_info": {
   "codemirror_mode": {
    "name": "ipython",
    "version": 3
   },
   "file_extension": ".py",
   "mimetype": "text/x-python",
   "name": "python",
   "nbconvert_exporter": "python",
   "pygments_lexer": "ipython3",
   "version": "3.11.2"
  },
  "orig_nbformat": 4
 },
 "nbformat": 4,
 "nbformat_minor": 2
}

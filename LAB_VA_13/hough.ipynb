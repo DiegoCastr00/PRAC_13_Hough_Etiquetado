{
 "cells": [
  {
   "cell_type": "code",
   "execution_count": 83,
   "metadata": {},
   "outputs": [],
   "source": [
    "import cv2\n",
    "import numpy as np\n",
    "import matplotlib.pyplot as plt\n",
    "from scipy import ndimage"
   ]
  },
  {
   "cell_type": "code",
   "execution_count": 84,
   "metadata": {},
   "outputs": [],
   "source": [
    "def mascara(imagen):\n",
    "    puntos_referencia = np.array([(1, 374), (1231, 374),(705, 176) ,(501, 176) ], dtype=np.int32)\n",
    "    mascara = np.zeros_like(imagen)\n",
    "    cv2.fillPoly(mascara, [puntos_referencia], (255, 255, 255)) \n",
    "    imagen_resultado = cv2.bitwise_and(imagen, mascara)\n",
    "    return imagen_resultado"
   ]
  },
  {
   "cell_type": "code",
   "execution_count": 85,
   "metadata": {},
   "outputs": [],
   "source": [
    "def draw_lines(img, lines, color=[255, 0, 0], thickness=7):\n",
    "    for line in lines:\n",
    "        for x1, y1, x2, y2 in line:\n",
    "            cv2.line(img, (x1, y1), (x2, y2), color, thickness)"
   ]
  },
  {
   "cell_type": "code",
   "execution_count": 86,
   "metadata": {},
   "outputs": [],
   "source": [
    "def rgb2gray(rgb):\n",
    "    return np.dot(rgb[..., :3], [0.299, 0.587, 0.114]).astype(np.uint8)"
   ]
  },
  {
   "cell_type": "code",
   "execution_count": 87,
   "metadata": {},
   "outputs": [],
   "source": [
    "def kernel_gaussiano (img):\n",
    "    mascara = np.array([[1, 4,  7,  4,  1], \n",
    "                        [4, 16, 26, 16, 4], \n",
    "                        [7, 26, 41, 26, 7],\n",
    "                        [4, 16, 26, 16, 4],\n",
    "                        [1, 4,  7,  4,  1]])\n",
    "\n",
    "    mascara = mascara /273  #normalización de la mascar\n",
    "    mascaraf, mascaraC = mascara.shape\n",
    "\n",
    "    filas,columnas,canales = img.shape# obtención de los tamaños de las imagenes \n",
    "    bordeH = int((mascaraf-1)/2)\n",
    "    bordeA = int((mascaraC-1)/2)\n",
    "\n",
    "    matrizF = np.zeros((filas + (mascaraf-1), columnas + (mascaraC-1),canales))#matriz mas grande para eviatar el desbordamiento\n",
    "\n",
    "    matrizF[bordeH:filas+bordeH, bordeA:columnas+bordeA] = img # se copia la imagen \n",
    "\n",
    "    matrizfinal = np.zeros_like(img)# se genera la matriz en donde se almacenan los datos \n",
    "\n",
    "    for i in range(bordeH, filas + bordeH):\n",
    "        for j in range(bordeA, columnas + bordeA):\n",
    "            matrizfinal[i-bordeH, j-bordeA, 0] = np.sum(mascara * matrizF[i-bordeH:i+bordeH+1, j-bordeA:j+bordeA+1, 0])\n",
    "            matrizfinal[i-bordeH, j-bordeA, 1] = np.sum(mascara * matrizF[i-bordeH:i+bordeH+1, j-bordeA:j+bordeA+1, 1])\n",
    "            matrizfinal[i-bordeH, j-bordeA, 2] = np.sum(mascara * matrizF[i-bordeH:i+bordeH+1, j-bordeA:j+bordeA+1, 2])\n",
    "\n",
    "    return matrizfinal"
   ]
  },
  {
   "cell_type": "code",
   "execution_count": 88,
   "metadata": {},
   "outputs": [],
   "source": [
    "def Gradientes (imgarr):\n",
    "    filas,columnas,ca = imgarr.shape\n",
    "    #La imagen se convierte a escala de grises \n",
    "    img = np.dot(imgarr[...,:3], [0.299, 0.587, 0.114])\n",
    "\n",
    "    h,w=img.shape\n",
    "\n",
    "    mascara_x = np.array([[-1, 0, 1], \n",
    "                        [-2, 0, 2], \n",
    "                        [-1, 0, 1]])\n",
    "\n",
    "    mascara_y = np.array([[-1, -2, -1], \n",
    "                        [ 0,  0,  0], \n",
    "                        [ 1,  2,  1]])\n",
    "\n",
    "    mascaraf, mascaraC = mascara_x.shape\n",
    "    bordeH = int((mascaraf-1)/2)\n",
    "    bordeA = int((mascaraC-1)/2)\n",
    "    matrizF = np.zeros((filas + (mascaraf-1), columnas + (mascaraC-1)))#matriz mas grande para eviatar el desbordamiento\n",
    "\n",
    "    matrizF[bordeH:filas+bordeH, bordeA:columnas+bordeA] = img # se copia la imagen \n",
    "\n",
    "    matrizfinal_x = np.zeros_like(img)# se genera la matriz en donde se almacenan los datos \n",
    "    matrizfinal_y = np.zeros_like(img)\n",
    "    gradiente = np.zeros_like(img)\n",
    "    gradiente_angulo = np.zeros_like(img)\n",
    "\n",
    "    for i in range(bordeH, filas + bordeH):\n",
    "        for j in range(bordeA, columnas + bordeA):\n",
    "            matrizfinal_x[i-bordeH, j-bordeA] = np.sum(mascara_x * matrizF[i-bordeH:i+bordeH+1, j-bordeA:j+bordeA+1])\n",
    "            matrizfinal_y[i-bordeH, j-bordeA] = np.sum(mascara_y * matrizF[i-bordeH:i+bordeH+1, j-bordeA:j+bordeA+1])\n",
    "            gradiente[i-bordeH, j-bordeA] = np.sqrt((matrizfinal_x[i-bordeH, j-bordeA]**2) + (matrizfinal_y[i-bordeH, j-bordeA]**2))\n",
    "            gradiente_angulo[i-bordeH, j-bordeA] = np.arctan2(matrizfinal_y[i-bordeH, j-bordeA], matrizfinal_x[i-bordeH, j-bordeA])\n",
    "            \n",
    "    return gradiente, gradiente_angulo"
   ]
  },
  {
   "cell_type": "code",
   "execution_count": 89,
   "metadata": {},
   "outputs": [],
   "source": [
    "def supresionM(gradiente_magnitud, gradiente_angulo):\n",
    "    filas, columnas = gradiente_magnitud.shape\n",
    "    maximosl = np.zeros_like(gradiente_magnitud)\n",
    "    #Obtenemos los grads que tiene cada pixel\n",
    "    angulos = gradiente_angulo * 180 / np.pi\n",
    "    #Nos aseguramos que se encuentre dentro del rango de 0 a 180\n",
    "    angulos[angulos < 0] += 180\n",
    "\n",
    "    for i in range(1, filas - 1):\n",
    "        for j in range(1, columnas - 1):\n",
    "            #Verificación de los ángulos de capa pixel\n",
    "            if ( 0 <= angulos[i,j] < 22.5) or ( 157.5 <= angulos[i,j]< 180):\n",
    "                cercanos =  (gradiente_magnitud[i,j-1], gradiente_magnitud[i, j], gradiente_magnitud[i, j + 1])\n",
    "            elif (22.5 <= angulos[i,j] < 67.5):\n",
    "                cercanos = (gradiente_magnitud[i - 1, j - 1], gradiente_magnitud[i, j], gradiente_magnitud[i + 1, j + 1])\n",
    "            elif (67.5 <= angulos[i,j] < 112.5):\n",
    "                cercanos = (gradiente_magnitud[i - 1, j], gradiente_magnitud[i, j], gradiente_magnitud[i + 1, j])\n",
    "            else:\n",
    "                cercanos = (gradiente_magnitud[i - 1, j + 1], gradiente_magnitud[i, j], gradiente_magnitud[i + 1, j - 1])\n",
    "            if (gradiente_magnitud[i,j]>= max(cercanos)):\n",
    "                maximosl[i,j] = gradiente_magnitud[i,j]\n",
    "\n",
    "    return maximosl\n",
    "\n"
   ]
  },
  {
   "cell_type": "code",
   "execution_count": 90,
   "metadata": {},
   "outputs": [],
   "source": [
    "def umbralizacion_histeresis(gradiente_suprimido, umbral_bajo, umbral_alto):\n",
    "    # Aplicar la umbralización por histéresis\n",
    "    bordes_fuertes = gradiente_suprimido > umbral_alto\n",
    "    bordes_debiles = (gradiente_suprimido >= umbral_bajo) & (gradiente_suprimido <= umbral_alto)\n",
    "\n",
    "    etiquetas, num_caracteristicas = ndimage.label(bordes_fuertes)\n",
    "\n",
    "    for i in range(1, num_caracteristicas + 1):\n",
    "        etiqueta_actual = (etiquetas == i)\n",
    "        bordes_debiles = bordes_debiles | etiqueta_actual\n",
    "\n",
    "    return bordes_fuertes, bordes_debiles"
   ]
  },
  {
   "cell_type": "code",
   "execution_count": 91,
   "metadata": {},
   "outputs": [
    {
     "data": {
      "text/plain": [
       "<matplotlib.image.AxesImage at 0x17269f7ff40>"
      ]
     },
     "execution_count": 91,
     "metadata": {},
     "output_type": "execute_result"
    },
    {
     "data": {
      "image/png": "[encoded data removed]",
      "text/plain": [
       "<Figure size 640x480 with 1 Axes>"
      ]
     },
     "metadata": {},
     "output_type": "display_data"
    }
   ],
   "source": [
    "image = cv2.imread('carretera6.png')\n",
    "\n",
    "cropped_image = mascara(image)\n",
    "blur = kernel_gaussiano(cropped_image)\n",
    "\n",
    "gradiente, gradienteAng = Gradientes(blur)\n",
    "gradienteS = supresionM(gradiente, gradienteAng)\n",
    "\n",
    "umbral_bajo = 50\n",
    "umbral_alto = 150\n",
    "bordes_fuertes, bordes_debiles = umbralizacion_histeresis(gradienteS, umbral_bajo, umbral_alto)\n",
    "\n",
    "imagen_binaria = np.where(bordes_debiles > 0, 1, 0)\n",
    "\n",
    "plt.subplot(3, 1, 2)\n",
    "plt.imshow(imagen_binaria, cmap='gray')"
   ]
  },
  {
   "cell_type": "code",
   "execution_count": 103,
   "metadata": {},
   "outputs": [
    {
     "data": {
      "text/plain": [
       "<matplotlib.image.AxesImage at 0x17370658580>"
      ]
     },
     "execution_count": 103,
     "metadata": {},
     "output_type": "execute_result"
    },
    {
     "data": {
      "image/png": "[encoded data removed]",
      "text/plain": [
       "<Figure size 640x480 with 1 Axes>"
      ]
     },
     "metadata": {},
     "output_type": "display_data"
    }
   ],
   "source": [
    "plt.subplot(3, 1, 2)\n",
    "plt.imshow(cropped_image)"
   ]
  },
  {
   "cell_type": "code",
   "execution_count": 92,
   "metadata": {},
   "outputs": [
    {
     "name": "stdout",
     "output_type": "stream",
     "text": [
      "int32\n",
      "(375, 1242)\n"
     ]
    }
   ],
   "source": [
    "print(imagen_binaria.dtype)  # Should print \"uint8\" for 8-bit image\n",
    "print(imagen_binaria.shape)"
   ]
  },
  {
   "cell_type": "code",
   "execution_count": 93,
   "metadata": {},
   "outputs": [],
   "source": [
    "imagen_binaria = imagen_binaria.astype(np.uint8)"
   ]
  },
  {
   "cell_type": "code",
   "execution_count": 94,
   "metadata": {},
   "outputs": [],
   "source": [
    "def houghLine(image):\n",
    "   Ny = image.shape[0]\n",
    "   Nx = image.shape[1]\n",
    "\n",
    "   #Max diatance is diagonal one \n",
    "   Maxdist = int(np.round(np.sqrt(Nx**2 + Ny ** 2)))\n",
    "   thetas = np.deg2rad(np.arange(-180, 180))\n",
    "   #Range of radius\n",
    "   rs = np.linspace(-Maxdist, Maxdist, 2*Maxdist)\n",
    "   accumulator = np.zeros((2 * Maxdist, len(thetas)))\n",
    "   for y in range(Ny):\n",
    "      for x in range(Nx):\n",
    "         # Check if it is an edge pixel\n",
    "         #  NB: y -> rows , x -> columns\n",
    "         if image[y,x] > 0:\n",
    "            for k in range(len(thetas)):\n",
    "               r = x*np.cos(thetas[k]) + y * np.sin(thetas[k])\n",
    "               accumulator[int(r) + Maxdist,k] += 1\n",
    "   return accumulator, thetas, rs"
   ]
  },
  {
   "cell_type": "code",
   "execution_count": 95,
   "metadata": {},
   "outputs": [],
   "source": [
    "\n",
    "def find_lines(accumulator, threshold, rs, thetas, image):\n",
    "    # Find peaks in the accumulator\n",
    "    peaks = np.where(accumulator > threshold)\n",
    "    lines = []\n",
    "    for rho_idx, theta_idx in zip(peaks[0], peaks[1]):\n",
    "        rho = rs[rho_idx]\n",
    "        theta = thetas[theta_idx]\n",
    "        \n",
    "        # Convert polar coordinates (rho, theta) to Cartesian coordinates (x, y)\n",
    "        x1 = int(rho * np.cos(theta))\n",
    "        y1 = int(rho * np.sin(theta))\n",
    "        x2 = int(x1 + 1000 * (-np.sin(theta)))  # Extend the line for visualization\n",
    "        y2 = int(y1 + 1000 * (np.cos(theta)))  # Extend the line for visualization\n",
    "        \n",
    "        lines.append(((x1, y1), (x2, y2)))\n",
    "        cv2.line(image, (x1, y1), (x2, y2), (0, 0, 255), 2)\n",
    "        \n",
    "    return lines, image"
   ]
  },
  {
   "cell_type": "code",
   "execution_count": 96,
   "metadata": {},
   "outputs": [
    {
     "name": "stdout",
     "output_type": "stream",
     "text": [
      "[((135, 372), (1074, 29)), ((127, 369), (1072, 43)), ((26, 254), (1020, 149)), ((26, 255), (-968, 359)), ((127, 370), (-818, 695)), ((136, 373), (-803, 715))]\n"
     ]
    }
   ],
   "source": [
    "Oimage=image\n",
    "accumulator, thetas, rhos = houghLine(imagen_binaria)\n",
    "threshold = 170  # Adjust the threshold as needed\n",
    "detected_lines, Oimage = find_lines(accumulator, threshold, rhos, thetas, Oimage)\n",
    "print(detected_lines)"
   ]
  },
  {
   "cell_type": "code",
   "execution_count": 97,
   "metadata": {},
   "outputs": [],
   "source": [
    "cv2.imshow('Detected Lines', Oimage)\n",
    "cv2.waitKey(0)\n",
    "cv2.destroyAllWindows()"
   ]
  },
  {
   "cell_type": "code",
   "execution_count": 98,
   "metadata": {},
   "outputs": [],
   "source": [
    "def houghLine(image):\n",
    "   Ny = image.shape[0]\n",
    "   Nx = image.shape[1]\n",
    "\n",
    "   #Max diatance is diagonal one \n",
    "   Maxdist = int(np.round(np.sqrt(Nx**2 + Ny ** 2)))\n",
    "   thetas = np.deg2rad(np.arange(-180, 180))\n",
    "   #Range of radius\n",
    "   rs = np.linspace(-Maxdist, Maxdist, 2*Maxdist)\n",
    "   accumulator = np.zeros((2 * Maxdist, len(thetas)))\n",
    "   for y in range(Ny):\n",
    "      for x in range(Nx):\n",
    "         # Check if it is an edge pixel\n",
    "         #  NB: y -> rows , x -> columns\n",
    "         if image[y,x] > 0:\n",
    "            for k in range(len(thetas)):\n",
    "               r = x*np.cos(thetas[k]) + y * np.sin(thetas[k])\n",
    "               accumulator[int(r) + Maxdist,k] += 1\n",
    "   return accumulator, thetas, rs"
   ]
  },
  {
   "cell_type": "code",
   "execution_count": 99,
   "metadata": {},
   "outputs": [],
   "source": [
    "import cv2 as cv\n",
    "import numpy as np\n",
    "\n",
    "img = cv.imread('carretera2.png', cv.IMREAD_COLOR)\n",
    "gray = cv.cvtColor(img, cv.COLOR_BGR2GRAY)\n",
    "gray = cv.medianBlur(gray, 5)\n",
    "\n",
    "# Detect circles\n",
    "circles = cv.HoughCircles(gray, cv.HOUGH_GRADIENT, .6, 60, param1=150, param2=40, minRadius=0, maxRadius=0)\n",
    "\n",
    "if circles is not None:\n",
    "    circles = np.uint16(np.around(circles))\n",
    "\n",
    "    for c in circles[0, :]:\n",
    "        # Draw the circle\n",
    "        center = (c[0], c[1])\n",
    "        radius = c[2]\n",
    "        cv.circle(img, center, radius, (0, 255, 0), 2)\n",
    "\n",
    "    cv.imshow('Detected Circles', img)\n",
    "    cv.waitKey(0)\n",
    "    cv.destroyAllWindows()\n",
    "else:\n",
    "    print(\"No circles detected.\")\n"
   ]
  },
  {
   "cell_type": "code",
   "execution_count": 100,
   "metadata": {},
   "outputs": [],
   "source": [
    "import cv2 as cv\n",
    "import numpy as np\n",
    "\n",
    "# Cargar la imagen\n",
    "img = cv.imread('carretera6.png', cv.IMREAD_COLOR)\n",
    "gray = cv.cvtColor(img, cv.COLOR_BGR2GRAY)\n",
    "gray = cv.medianBlur(gray, 5)\n",
    "\n",
    "lines_p = []\n",
    "\n",
    "# Convertir líneas a formato HoughLinesP\n",
    "if detected_lines is not None:\n",
    "    for line in detected_lines:\n",
    "        rho, theta = line[0]\n",
    "        a = np.cos(theta)\n",
    "        b = np.sin(theta)\n",
    "        x0 = a * rho\n",
    "        y0 = b * rho\n",
    "        x1 = int(x0 + 1000 * (-b))\n",
    "        y1 = int(y0 + 1000 * (a))\n",
    "        x2 = int(x0 - 1000 * (-b))\n",
    "        y2 = int(y0 - 1000 * (a))\n",
    "        lines_p.append([[x1, y1, x2, y2]])\n",
    "\n",
    "# Convertir a un formato numpy array\n",
    "lines_p = np.array(lines_p)\n",
    "\n",
    "# Detectar círculos\n",
    "circles = cv.HoughCircles(gray, cv.HOUGH_GRADIENT, .6, 60, param1=150, param2=40, minRadius=0, maxRadius=0)\n",
    "\n",
    "# Dibujar líneas\n",
    "if lines_p is not None:\n",
    "    for line in lines_p:\n",
    "        x1, y1, x2, y2 = line[0]\n",
    "        cv.line(img, (x1, y1), (x2, y2), (0, 0, 255), 2)\n",
    "\n",
    "# Dibujar círculos\n",
    "if circles is not None:\n",
    "    circles = np.uint16(np.around(circles))\n",
    "    for c in circles[0, :]:\n",
    "        center = (c[0], c[1])\n",
    "        radius = c[2]\n",
    "        cv.circle(img, center, radius, (0, 255, 0), 2)\n",
    "\n",
    "# Mostrar la imagen con líneas y círculos detectados\n",
    "cv.imshow('Detected Lines and Circles', img)\n",
    "cv.waitKey(0)\n",
    "cv.destroyAllWindows()\n",
    "\n"
   ]
  },
  {
   "cell_type": "code",
   "execution_count": 101,
   "metadata": {},
   "outputs": [],
   "source": [
    "import numpy as np\n",
    "\n",
    "def hough_lines_p(image, rho_res=1, theta_res=np.pi/180, threshold=50, min_line_length=100, max_line_gap=10):\n",
    "    # Inicializar listas para almacenar segmentos de líneas\n",
    "    lines = []\n",
    "    # Convertir la lista de líneas a un formato numpy array\n",
    "    lines = np.array(lines)\n",
    "\n",
    "    # Filtrar líneas basadas en el umbral de detección\n",
    "    filtered_lines = lines[np.abs(lines[:, 0]) > threshold]\n",
    "\n",
    "    # Inicializar una lista para almacenar los segmentos de líneas\n",
    "    line_segments = []\n",
    "\n",
    "    # Encontrar segmentos de líneas a partir de las líneas detectadas\n",
    "    for rho_val, theta_val in filtered_lines:\n",
    "        a = np.cos(theta_val)\n",
    "        b = np.sin(theta_val)\n",
    "        x0 = a * rho_val\n",
    "        y0 = b * rho_val\n",
    "        x1 = int(x0 + 1000 * (-b))\n",
    "        y1 = int(y0 + 1000 * (a))\n",
    "        x2 = int(x0 - 1000 * (-b))\n",
    "        y2 = int(y0 - 1000 * (a))\n",
    "        length = np.sqrt((x2 - x1)**2 + (y2 - y1)**2)\n",
    "\n",
    "        if length >= min_line_length:\n",
    "            line_segments.append([(x1, y1), (x2, y2)])\n",
    "\n",
    "    return line_segments\n",
    "\n"
   ]
  },
  {
   "cell_type": "code",
   "execution_count": 102,
   "metadata": {},
   "outputs": [],
   "source": [
    "import cv2\n",
    "\n",
    "# Cargar la imagen\n",
    "image = cv2.imread('carretera2.png', cv2.IMREAD_GRAYSCALE)\n",
    "\n",
    "# Llamar a la función para detectar segmentos de líneas\n",
    "segments = hough_lines_p(imagen_binaria)\n",
    "\n",
    "# Dibujar los segmentos de líneas en la imagen original\n",
    "for segment in segments:\n",
    "    cv2.line(image, segment[0], segment[1], (0, 0, 255), 2)\n",
    "\n",
    "# Mostrar la imagen con los segmentos de líneas detectados\n",
    "cv2.imshow('Líneas Detectadas', image)\n",
    "cv2.waitKey(0)\n",
    "cv2.destroyAllWindows()"
   ]
  }
 ],
 "metadata": {
  "kernelspec": {
   "display_name": "Python 3",
   "language": "python",
   "name": "python3"
  },
  "language_info": {
   "codemirror_mode": {
    "name": "ipython",
    "version": 3
   },
   "file_extension": ".py",
   "mimetype": "text/x-python",
   "name": "python",
   "nbconvert_exporter": "python",
   "pygments_lexer": "ipython3",
   "version": "3.9.13"
  },
  "orig_nbformat": 4
 },
 "nbformat": 4,
 "nbformat_minor": 2
}
